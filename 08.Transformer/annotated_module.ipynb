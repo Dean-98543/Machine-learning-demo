{
 "cells": [
  {
   "cell_type": "code",
   "execution_count": null,
   "id": "4f706d18-ad8b-429c-b24f-4dbd1b0e6b41",
   "metadata": {},
   "outputs": [],
   "source": []
  },
  {
   "cell_type": "code",
   "execution_count": null,
   "id": "efa4fe75-55f2-41a5-bb56-8dadd2d8badd",
   "metadata": {},
   "outputs": [],
   "source": []
  }
 ],
 "metadata": {
  "kernelspec": {
   "display_name": "GYM_Python37",
   "language": "python",
   "name": "gym_python37"
  },
  "language_info": {
   "codemirror_mode": {
    "name": "ipython",
    "version": 3
   },
   "file_extension": ".py",
   "mimetype": "text/x-python",
   "name": "python",
   "nbconvert_exporter": "python",
   "pygments_lexer": "ipython3",
   "version": "3.7.13"
  }
 },
 "nbformat": 4,
 "nbformat_minor": 5
}
